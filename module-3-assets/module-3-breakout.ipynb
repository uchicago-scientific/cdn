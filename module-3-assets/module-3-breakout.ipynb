{
 "cells": [
  {
   "cell_type": "markdown",
   "metadata": {},
   "source": [
    "# Sequence Alignment 1\n",
    "----------------------\n",
    "Align the following sequences:\n",
    "```\n",
    "SIMILARITY\n",
    "PILLAR\n",
    "```\n"
   ]
  },
  {
   "cell_type": "markdown",
   "metadata": {},
   "source": []
  },
  {
   "cell_type": "markdown",
   "metadata": {},
   "source": [
    "# Sequence Alignment 2\n",
    "----------------------\n",
    "Align the following sequences:\n",
    "```\n",
    "SIMILARITY\n",
    "PILLAR\n",
    "```\n",
    "\n",
    "Rules:\n",
    "* Use the full sequences\n",
    "* No gaps allowed\n",
    "\n",
    "Score: \n",
    "* +1 Match \n",
    "* -1 Mismatch"
   ]
  },
  {
   "cell_type": "markdown",
   "metadata": {},
   "source": []
  },
  {
   "cell_type": "markdown",
   "metadata": {},
   "source": [
    "# Sequence Alignment 3\n",
    "----------------------\n",
    "Align the following sequences:\n",
    "```\n",
    "SIMILARITY\n",
    "PILLAR\n",
    "```\n",
    "\n",
    "Rules:\n",
    "* Use the full sequences\n",
    "* Gaps allowed\n",
    "\n",
    "Score: \n",
    "* +1 Match \n",
    "* -1 Mismatch"
   ]
  },
  {
   "cell_type": "markdown",
   "metadata": {},
   "source": []
  },
  {
   "cell_type": "markdown",
   "metadata": {},
   "source": [
    "# Sequence Alignment 4\n",
    "----------------------\n",
    "Align the following sequences:\n",
    "```\n",
    "SIMILARITY\n",
    "PILLAR\n",
    "```\n",
    "\n",
    "Rules:\n",
    "* Use subsequences\n",
    "* Gaps allowed\n",
    "\n",
    "Score: \n",
    "* +1 Match \n",
    "* -1 Mismatch"
   ]
  },
  {
   "cell_type": "markdown",
   "metadata": {},
   "source": []
  },
  {
   "cell_type": "markdown",
   "metadata": {},
   "source": [
    "# Sequence Alignment 5\n",
    "----------------------\n",
    "Align the following sequences:\n",
    "\n",
    "```\n",
    "ATGGCGT\n",
    "ATGAGT \n",
    "```\n",
    "\n",
    "Rules:\n",
    "* Use subsequences\n",
    "* Gaps allowed\n",
    "\n",
    "Score: \n",
    "* +1 Match \n",
    "* -1 Mismatch"
   ]
  },
  {
   "cell_type": "markdown",
   "metadata": {},
   "source": []
  },
  {
   "cell_type": "markdown",
   "metadata": {},
   "source": [
    "# Sequence Alignment 6\n",
    "----------------------\n",
    "Align the following sequences:\n",
    "\n",
    "```\n",
    "THISSEQUENCE\n",
    "THATISASEQUENCE\n",
    "```\n",
    "\n",
    "Rules:\n",
    "* Use subsequences\n",
    "* Gaps allowed\n",
    "\n",
    "Score: \n",
    "* +1 Match \n",
    "* -1 Mismatch\n"
   ]
  },
  {
   "cell_type": "markdown",
   "metadata": {},
   "source": []
  },
  {
   "cell_type": "markdown",
   "metadata": {},
   "source": []
  }
 ],
 "metadata": {
  "language_info": {
   "name": "python"
  },
  "orig_nbformat": 4
 },
 "nbformat": 4,
 "nbformat_minor": 2
}
