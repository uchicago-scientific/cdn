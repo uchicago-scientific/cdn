{
 "cells": [
  {
   "cell_type": "markdown",
   "metadata": {},
   "source": [
    "# Problem 1. Global Sequence Alignment\n",
    "-------------------------------\n",
    "You are given two sequences `AGATTAC` and `AGTTAC`. Assume a match score of `1`, a gap penalty of `3` and a substitution score of `-1`. Using these scores, obtain the global alignment of these two sequences manually (ie. on a piece of paper) in the following two steps:\n",
    "\n",
    "1. Fill in the entries of the `F` matrix by applying the recurrence relationship for global alignment to these sequences. Please show the back pointers to the matrix entry/entries that give you the maximal score for any entry.\n",
    "\n",
    "2. Apply the trace back procedure to obtain an optimal alignment. If there are multiple possible alignments, please show all of them along with their traceback paths.\n",
    "\n",
    "Take a picture of your alignments and include the image as submission for homework.  Please type the alignments immediately following."
   ]
  },
  {
   "cell_type": "markdown",
   "metadata": {},
   "source": [
    "_image here and alignment here_"
   ]
  },
  {
   "cell_type": "markdown",
   "metadata": {},
   "source": [
    "> The Freiburg RNA tools website has an interactive Needleman-Wunsch alignment calculator [here](http://rna.informatik.uni-freiburg.de/Teaching/index.jsp?toolName=Needleman-Wunsch), and also has equations and calcualtors for many related alignment tasks, such as modifications of sequence alignment, and also RNA folding and co-folding algorithms. Use this to check your work. Make sure that you are using the same scoring and gap penalty values."
   ]
  },
  {
   "cell_type": "markdown",
   "metadata": {},
   "source": [
    "# Problem 2. Local Sequence Alignment\n",
    "-----------------------------\n",
    "Perform a manual local alignment for the sequences, `GAAGAGTATA` and `AAGCTATACC`.   Assume a match score of `1`, a gap penalty of `3` and a substitution score of `-1`.  Complete the following steps:\n",
    "\n",
    "1. Fill in the entries of the `F` matrix using the recurrence relationship for the local alignment of these sequences. Show back pointers to matrix entry/entries that give you the maximal score.\n",
    "\n",
    "2. Apply the trace back procedure to generate a local alignment.\n",
    "\n",
    "Take a picture of your alignments and include the image as submission for homework.  Please type the alignments immediately following."
   ]
  },
  {
   "cell_type": "markdown",
   "metadata": {},
   "source": [
    "_image here and alignment here_"
   ]
  },
  {
   "cell_type": "markdown",
   "metadata": {},
   "source": [
    "# Problem 3. Dynamic Progamming Implementation"
   ]
  },
  {
   "cell_type": "markdown",
   "metadata": {},
   "source": [
    "Implement dynamic programming algorithms for global (Needleman-Wunsch) and local (Smith-Waterman) alignment of protein sequences. The implementation should be a stand alone, command-line application.\n",
    "\n",
    "The application should allow the user to read in the sequences from a fasta formatted file, select the type of alignment (local or global).\n",
    "\n",
    "The application should take parameter from the the command line to set the sequence files, the type of alignment, the scoring matrix and a linear gap penalty. Include the ability to select either the blosum62 or pam250 scoring matrices.\n",
    "\n",
    "The matrices are included as python dictionaries [here]().\n",
    "\n",
    "An example of running the program is shown below:\n",
    "\n",
    "```\n",
    "align.py --seq1 sequence_file.fasta --seq2 different_sequence_file.fasta --type global --matrix blosum62 --gap_penalty -2\n",
    "```\n",
    "\n",
    "The program should report the alignment score, the sequence identity and a visual representation of the alignment. For example:\n",
    "\n",
    "```\n",
    "seq 1   GCTAGGATAGGCAATTGGCCTAG--T--G\n",
    "seq 2   ------ATA-GTAATTGGCCT-GCTTGAG\n",
    "Aligment Score: 3\n",
    "\n",
    "\n",
    "```\n",
    "\n",
    "Please use judicious comments throughout your code.\n",
    "\n",
    "Implement your code in a seperate module and provide an example of a command used to test it against the following sequences.\n",
    "\n",
    "```\n",
    "```"
   ]
  },
  {
   "cell_type": "code",
   "execution_count": null,
   "metadata": {},
   "outputs": [],
   "source": [
    "# Your example command to test your program\n"
   ]
  },
  {
   "cell_type": "markdown",
   "metadata": {},
   "source": [
    "# 4.  Statisics of Pairwise Alignments\n",
    "---------------------------------------\n",
    "\n",
    "Perform sequence alignment of the following sequences:\n",
    "\n",
    "```\n",
    "PAWHEAE\n",
    "HEAGAWGHEE\n",
    "```\n",
    "Assume a match score of `1`, a gap penalty of `3` and a substitution score of `-1`.  What is the alignment score?\n"
   ]
  },
  {
   "cell_type": "code",
   "execution_count": null,
   "metadata": {
    "collapsed": true
   },
   "outputs": [],
   "source": []
  },
  {
   "cell_type": "markdown",
   "metadata": {},
   "source": [
    "Next, generate 100 random sequences with the same amino acid distribution as `PAWHEAE` by. Perform an alignment of each sequence to `HEAGAWGHEE`.   Calculate the Z-score for each alignment and construct a plot using matplot lib. Place the Z-score on the x-axis. Include the plot inline below."
   ]
  },
  {
   "cell_type": "code",
   "execution_count": null,
   "metadata": {},
   "outputs": [],
   "source": [
    "# Plot here"
   ]
  },
  {
   "cell_type": "markdown",
   "metadata": {},
   "source": [
    " What does the Z-score suggest about the significance of the initial alignment your performed?  "
   ]
  },
  {
   "cell_type": "code",
   "execution_count": null,
   "metadata": {},
   "outputs": [],
   "source": []
  },
  {
   "cell_type": "markdown",
   "metadata": {},
   "source": [
    "Are the alignment scores normally distributed?  _You can use SciPy or any other python modules to help._"
   ]
  },
  {
   "cell_type": "code",
   "execution_count": null,
   "metadata": {
    "collapsed": true
   },
   "outputs": [],
   "source": []
  },
  {
   "cell_type": "markdown",
   "metadata": {},
   "source": [
    "Repeat the process above, but now generate 1,000 and 10,000 random sequences and calculate the Z-score for each set.  Does the change in number of sequences alter your evaluation of the evolutionary relatedness of the sequences?"
   ]
  },
  {
   "cell_type": "markdown",
   "metadata": {},
   "source": []
  },
  {
   "cell_type": "markdown",
   "metadata": {},
   "source": [
    "Considering the wall time for each run, comment of the feasibility for computing the Z-score significance while searching a large database of millions of sequences."
   ]
  },
  {
   "cell_type": "markdown",
   "metadata": {
    "collapsed": true
   },
   "source": []
  },
  {
   "cell_type": "markdown",
   "metadata": {},
   "source": [
    "# Problem 5.  Recent Approaches in Sequence Alignemnt\n",
    "-----------------------------------------------------\n",
    "\n",
    "Search PubMed and identify a paper on a different sequence alignment method.  Do not use BLAST or FASTA.  Briefly (~1 paragraph) discuss what is different in these approaches and how they improve on Needleman-Wunch and/or Smith-Waterman.  You answer does not have to be uneccesarily technical, but please provide a concrete example of the improvement it makes."
   ]
  },
  {
   "cell_type": "code",
   "execution_count": null,
   "metadata": {},
   "outputs": [],
   "source": []
  }
 ],
 "metadata": {
  "anaconda-cloud": {},
  "kernelspec": {
   "display_name": "Python 3",
   "language": "python",
   "name": "python3"
  },
  "language_info": {
   "codemirror_mode": {
    "name": "ipython",
    "version": 3
   },
   "file_extension": ".py",
   "mimetype": "text/x-python",
   "name": "python",
   "nbconvert_exporter": "python",
   "pygments_lexer": "ipython3",
   "version": "3.7.5"
  }
 },
 "nbformat": 4,
 "nbformat_minor": 2
}
