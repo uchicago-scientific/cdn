{
 "cells": [
  {
   "attachments": {},
   "cell_type": "markdown",
   "metadata": {},
   "source": [
    "# Module 3: Assignment B #\n",
    "\n",
    "------"
   ]
  },
  {
   "attachments": {},
   "cell_type": "markdown",
   "metadata": {},
   "source": [
    "## 1. Dynamic Progamming Implementation\n",
    "\n",
    "Implement dynamic programming algorithms for global ([Needleman-Wunsch](https://pubmed.ncbi.nlm.nih.gov/5420325/)) and local ([Smith-Waterman](https://pubmed.ncbi.nlm.nih.gov/7265238)) alignment of protein sequences. The implementation should be a stand alone, command-line application. \n",
    "\n",
    "\n",
    "> There is a jupyter notebook in the module that walkthrough a partial implemention of Needleman-Wunsch. Feel free to use this code as a starter, but you do not feel obligated to. You may find it easier to start from scratch so that you can completely understand every aspect of your code or use this to get you started. There are some differences of what is being asked of you here, as to what is implemented (eg. scoring matrix, protein only) in the notebook.\n",
    "\n",
    "The application should allow the user to read in the sequences from a fasta formatted file, select the type of alignment (local or global).\n",
    "\n",
    "The application should take parameter from the the command line to set the sequence files, the type of alignment, the scoring matrix and a linear gap penalty. Include the ability to select either the blosum62 or pam250 scoring matrices. The matrices are included as python dictionaries [here]().\n",
    "\n",
    "An example of running the program is shown below:\n",
    "\n",
    "```\n",
    "\n",
    "align.py --seq1 sequence_file.fasta \\\n",
    "         --seq2 different_sequence_file.fasta \\ \n",
    "         --type global \\\n",
    "         --matrix blosum62 \\\n",
    "         --gap_penalty -2\n",
    "\n",
    "```\n",
    "\n",
    "Please use judicious comments throughout your code. \n",
    "\n",
    "The program should report the alignment score, the sequence identity and a visual representation of the alignment. For example:\n",
    "\n",
    "```\n",
    "\n",
    "seq 1   GCTAGGATAGGCAATTGGCCTAG--T--G\n",
    "seq 2   ------ATA-GTAATTGGCCT-GCTTGAG\n",
    "Aligment Score:    3\n",
    "Sequence Identity: 78%\n",
    "\n",
    "```\n",
    "\n",
    "Implement your code in a seperate module and provide an example of a command used to test it, along with the corresponding files."
   ]
  },
  {
   "cell_type": "code",
   "execution_count": null,
   "metadata": {},
   "outputs": [],
   "source": [
    "# my example command (with files included)\n"
   ]
  },
  {
   "cell_type": "markdown",
   "metadata": {},
   "source": [
    "Resources and tools to help test your implementation:\n",
    "\n",
    "* Neelemen-Wunsch \n",
    "  - A general method applicable to the search for similarities in the amino acid sequence of two proteins. Needleman SB, Wunsch CD. [J Mol Biol 1970 Mar;48(3):443-53](http://www.ncbi.nlm.nih.gov/pubmed/5420325?ordinalpos=7&itool=EntrezSystem2.PEntrez.Pubmed.Pubmed_ResultsPanel.Pubmed_DefaultReportPanel.Pubmed_RVDocSum)\n",
    "  - Online Needleman-Wunsch Alignment Tool: http://rna.informatik.uni-freiburg.de/Teaching/index.jsp?toolName=Needleman-Wunsch\n",
    "\n",
    "* Smith Waterman\n",
    "  - Identification of common molecular subsequences. Smith TF, Waterman MS. [J Mol Biol 1981 Mar 25;147(1):195-7]({{site.cdn}}/2015-Autumn/Session3/dayhoff-1978-apss.pdf)\n",
    "  - Online Smith Waterman Alignment Tool: http://rna.informatik.uni-freiburg.de/Teaching/index.jsp?toolName=Smith-Waterman"
   ]
  },
  {
   "attachments": {},
   "cell_type": "markdown",
   "metadata": {},
   "source": [
    "## 2.  Statisics of Pairwise Alignments\n",
    "---------------------------------------\n",
    "\n",
    "Perform a global sequence alignment of the following sequences:\n",
    "\n",
    "```\n",
    "PAWHEAE\n",
    "HEAGAWGHEE\n",
    "```\n",
    "Assume a match score of `1`, a gap penalty of `3` and a substitution score of `-1`.  What is the alignment score?\n"
   ]
  },
  {
   "cell_type": "code",
   "execution_count": null,
   "metadata": {
    "collapsed": true
   },
   "outputs": [],
   "source": []
  },
  {
   "attachments": {},
   "cell_type": "markdown",
   "metadata": {},
   "source": [
    "Next, generate 100 random sequences with the same amino acid distribution as `PAWHEAE` by. Perform an alignment of each sequence to `HEAGAWGHEE`.   Calculate the Z-score for each alignment and construct a plot using `matplotlib`. Place the Z-score on the x-axis. Include the plot inline below."
   ]
  },
  {
   "cell_type": "code",
   "execution_count": null,
   "metadata": {},
   "outputs": [],
   "source": [
    "# Plot here"
   ]
  },
  {
   "cell_type": "markdown",
   "metadata": {},
   "source": [
    " What does the Z-score suggest about the significance of the initial alignment your performed?  "
   ]
  },
  {
   "cell_type": "code",
   "execution_count": null,
   "metadata": {},
   "outputs": [],
   "source": []
  },
  {
   "cell_type": "markdown",
   "metadata": {},
   "source": [
    "Are the alignment scores normally distributed?  _You can use SciPy or any other python modules to help._"
   ]
  },
  {
   "cell_type": "code",
   "execution_count": null,
   "metadata": {
    "collapsed": true
   },
   "outputs": [],
   "source": []
  },
  {
   "cell_type": "markdown",
   "metadata": {},
   "source": [
    "Repeat the process above, but now generate 1,000 and 10,000 random sequences and calculate the Z-score for each set.  Does the change in number of sequences alter your evaluation of the evolutionary relatedness of the sequences?"
   ]
  },
  {
   "cell_type": "code",
   "execution_count": null,
   "metadata": {},
   "outputs": [],
   "source": []
  },
  {
   "cell_type": "markdown",
   "metadata": {},
   "source": [
    "Considering the wall time for each run, comment of the feasibility for computing the Z-score significance while searching a large database of millions of sequences."
   ]
  },
  {
   "cell_type": "code",
   "execution_count": null,
   "metadata": {
    "collapsed": true
   },
   "outputs": [],
   "source": []
  },
  {
   "attachments": {},
   "cell_type": "markdown",
   "metadata": {},
   "source": [
    "# 3.  Recent Approaches in Sequence Alignemnt\n",
    "-----------------------------------------------------\n",
    "\n",
    "Search [PubMed](https://pubmed.ncbi.nlm.nih.gov) and identify a paper on a different sequence alignment method.  Do not use BLAST or FASTA.  Briefly (at a high-level), discuss what is different in these approaches and how they improve on what we have seen with Needleman-Wunch and/or Smith-Waterman.  You answer does not have to be uneccesarily technical, but please provide an understanding example of the improvement it makes. Limit your response to 1 paragragh at most. Share you findings and a link to the paper in the `#showcase` channel."
   ]
  },
  {
   "cell_type": "code",
   "execution_count": null,
   "metadata": {},
   "outputs": [],
   "source": []
  }
 ],
 "metadata": {
  "anaconda-cloud": {},
  "kernelspec": {
   "display_name": "Python 3",
   "language": "python",
   "name": "python3"
  },
  "language_info": {
   "codemirror_mode": {
    "name": "ipython",
    "version": 3
   },
   "file_extension": ".py",
   "mimetype": "text/x-python",
   "name": "python",
   "nbconvert_exporter": "python",
   "pygments_lexer": "ipython3",
   "version": "3.7.5"
  }
 },
 "nbformat": 4,
 "nbformat_minor": 2
}
